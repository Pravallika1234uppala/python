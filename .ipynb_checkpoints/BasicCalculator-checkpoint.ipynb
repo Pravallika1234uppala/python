{
 "cells": [
  {
   "cell_type": "code",
   "execution_count": 1,
   "id": "1685d901-c6a8-4ae2-8bfb-2aa7b9386fd7",
   "metadata": {},
   "outputs": [
    {
     "name": "stdin",
     "output_type": "stream",
     "text": [
      "Enter a number 2\n",
      "Enter another number 4\n"
     ]
    },
    {
     "name": "stdout",
     "output_type": "stream",
     "text": [
      "Addition of two given numbers: 24\n"
     ]
    }
   ],
   "source": [
    "n1 = input(\"Enter a number\")\n",
    "n2 = input(\"Enter another number\")\n",
    "res = n1+n2\n",
    "print(\"Addition of two given numbers:\", res)"
   ]
  },
  {
   "cell_type": "code",
   "execution_count": 3,
   "id": "b3837532-1682-41ba-8781-d3a20666a330",
   "metadata": {},
   "outputs": [
    {
     "name": "stdin",
     "output_type": "stream",
     "text": [
      "Enter a number 6\n",
      "Enter another number 7.5\n"
     ]
    },
    {
     "ename": "ValueError",
     "evalue": "invalid literal for int() with base 10: '7.5'",
     "output_type": "error",
     "traceback": [
      "\u001b[0;31m---------------------------------------------------------------------------\u001b[0m",
      "\u001b[0;31mValueError\u001b[0m                                Traceback (most recent call last)",
      "Cell \u001b[0;32mIn[3], line 4\u001b[0m\n\u001b[1;32m      2\u001b[0m n1 \u001b[38;5;241m=\u001b[39m \u001b[38;5;28minput\u001b[39m(\u001b[38;5;124m\"\u001b[39m\u001b[38;5;124mEnter a number\u001b[39m\u001b[38;5;124m\"\u001b[39m)\n\u001b[1;32m      3\u001b[0m n2 \u001b[38;5;241m=\u001b[39m \u001b[38;5;28minput\u001b[39m(\u001b[38;5;124m\"\u001b[39m\u001b[38;5;124mEnter another number\u001b[39m\u001b[38;5;124m\"\u001b[39m)\n\u001b[0;32m----> 4\u001b[0m res \u001b[38;5;241m=\u001b[39m \u001b[38;5;28mint\u001b[39m(n1)\u001b[38;5;241m+\u001b[39m\u001b[38;5;28mint\u001b[39m(n2)\n\u001b[1;32m      5\u001b[0m \u001b[38;5;28mprint\u001b[39m(\u001b[38;5;124m\"\u001b[39m\u001b[38;5;124mAddition of two given numbers:\u001b[39m\u001b[38;5;124m\"\u001b[39m, res)\n",
      "\u001b[0;31mValueError\u001b[0m: invalid literal for int() with base 10: '7.5'"
     ]
    }
   ],
   "source": [
    "#input is by default a string.\n",
    "n1 = input(\"Enter a number\")\n",
    "n2 = input(\"Enter another number\")\n",
    "res = int(n1)+int(n2)\n",
    "print(\"Addition of two given numbers:\", res)"
   ]
  },
  {
   "cell_type": "code",
   "execution_count": 4,
   "id": "5ca85a74-6f01-47e7-b0a6-9641c659b975",
   "metadata": {},
   "outputs": [
    {
     "name": "stdin",
     "output_type": "stream",
     "text": [
      "Enter a number 6.5\n",
      "Enter another number 7.4\n"
     ]
    },
    {
     "name": "stdout",
     "output_type": "stream",
     "text": [
      "Addition of two given numbers: 13.9\n"
     ]
    }
   ],
   "source": [
    "#getting error for decimal numbers\n",
    "n1 = input(\"Enter a number\")\n",
    "n2 = input(\"Enter another number\")\n",
    "res = float(n1)+float(n2)\n",
    "print(\"Addition of two given numbers:\", res)"
   ]
  },
  {
   "cell_type": "code",
   "execution_count": null,
   "id": "b360599f-755e-4eab-86bd-f1861e20d676",
   "metadata": {},
   "outputs": [],
   "source": []
  }
 ],
 "metadata": {
  "kernelspec": {
   "display_name": "Python 3 (ipykernel)",
   "language": "python",
   "name": "python3"
  },
  "language_info": {
   "codemirror_mode": {
    "name": "ipython",
    "version": 3
   },
   "file_extension": ".py",
   "mimetype": "text/x-python",
   "name": "python",
   "nbconvert_exporter": "python",
   "pygments_lexer": "ipython3",
   "version": "3.11.7"
  }
 },
 "nbformat": 4,
 "nbformat_minor": 5
}
