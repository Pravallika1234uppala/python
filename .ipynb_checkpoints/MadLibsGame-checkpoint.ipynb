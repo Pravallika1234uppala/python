{
 "cells": [
  {
   "cell_type": "code",
   "execution_count": 1,
   "id": "a378c0fb-8fd2-47cc-bd9e-30e06738396d",
   "metadata": {},
   "outputs": [
    {
     "name": "stdout",
     "output_type": "stream",
     "text": [
      "Pravallika is a good girl\n",
      "Hyderabad is IT hub\n",
      "Pravallika lives in hyderabad\n"
     ]
    }
   ],
   "source": [
    "print(\"Pravallika is a good girl\")\n",
    "print(\"Hyderabad is IT hub\")\n",
    "print(\"Pravallika lives in hyderabad\")"
   ]
  },
  {
   "cell_type": "code",
   "execution_count": 2,
   "id": "c9c6a187-b2bd-4ac2-ab3c-bf680c1d2af8",
   "metadata": {},
   "outputs": [
    {
     "name": "stdout",
     "output_type": "stream",
     "text": [
      "{name} is a good girl\n",
      "{city} is IT hub\n",
      "{name} lives in {city}\n"
     ]
    }
   ],
   "source": [
    "print(\"{name} is a good girl\")\n",
    "print(\"{city} is IT hub\")\n",
    "print(\"{name} lives in {city}\")"
   ]
  },
  {
   "cell_type": "code",
   "execution_count": 3,
   "id": "9cebe230-4dfd-436f-b83c-b9836ca88d22",
   "metadata": {},
   "outputs": [
    {
     "name": "stdin",
     "output_type": "stream",
     "text": [
      "Enter a name Pravallika\n",
      "Enter a city Birmingham\n"
     ]
    },
    {
     "name": "stdout",
     "output_type": "stream",
     "text": [
      "Pravallika is a good girl\n",
      "Birmingham is IT hub\n",
      "Pravallika lives in Birmingham\n"
     ]
    }
   ],
   "source": [
    "name = input(\"Enter a name\")\n",
    "city = input(\"Enter a city\")\n",
    "print(\"{} is a good girl\".format(name))\n",
    "print(\"{} is IT hub\".format(city))\n",
    "print(\"{} lives in {}\".format(name,city))"
   ]
  },
  {
   "cell_type": "code",
   "execution_count": null,
   "id": "fbf551bc-3638-4d44-b5ff-c5e7ac26eea6",
   "metadata": {},
   "outputs": [],
   "source": []
  }
 ],
 "metadata": {
  "kernelspec": {
   "display_name": "Python 3 (ipykernel)",
   "language": "python",
   "name": "python3"
  },
  "language_info": {
   "codemirror_mode": {
    "name": "ipython",
    "version": 3
   },
   "file_extension": ".py",
   "mimetype": "text/x-python",
   "name": "python",
   "nbconvert_exporter": "python",
   "pygments_lexer": "ipython3",
   "version": "3.11.7"
  }
 },
 "nbformat": 4,
 "nbformat_minor": 5
}
