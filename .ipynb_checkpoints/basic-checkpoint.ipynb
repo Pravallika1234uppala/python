{
 "cells": [
  {
   "cell_type": "markdown",
   "id": "2e7dbf71-cbf5-4423-9ed4-d76f0e73cf0c",
   "metadata": {},
   "source": [
    "## BASIC PYTHON:"
   ]
  },
  {
   "cell_type": "markdown",
   "id": "45d7fbed-cdba-4b20-acc1-f0e339729c5c",
   "metadata": {},
   "source": [
    "#### Finding Simple values:"
   ]
  },
  {
   "cell_type": "markdown",
   "id": "dd3b1b69-a03d-4acf-9e46-fb35dcd111e5",
   "metadata": {},
   "source": [
    "### Addition:"
   ]
  },
  {
   "cell_type": "code",
   "execution_count": 1,
   "id": "c5221807-b069-4791-984f-f9465adf6b80",
   "metadata": {},
   "outputs": [
    {
     "data": {
      "text/plain": [
       "2"
      ]
     },
     "execution_count": 1,
     "metadata": {},
     "output_type": "execute_result"
    }
   ],
   "source": [
    "1+1"
   ]
  },
  {
   "cell_type": "markdown",
   "id": "6d1f51da-d477-42f3-a3d2-b12738ba828e",
   "metadata": {},
   "source": [
    "### Subtraction:"
   ]
  },
  {
   "cell_type": "code",
   "execution_count": 2,
   "id": "5e6f06f3-8ee3-487e-bcdb-5090da03d3e3",
   "metadata": {},
   "outputs": [
    {
     "data": {
      "text/plain": [
       "-35"
      ]
     },
     "execution_count": 2,
     "metadata": {},
     "output_type": "execute_result"
    }
   ],
   "source": [
    "10-45"
   ]
  },
  {
   "cell_type": "markdown",
   "id": "1b3bd7fe-3a7f-4c26-93ad-869601a00848",
   "metadata": {},
   "source": [
    "### Multiplication:"
   ]
  },
  {
   "cell_type": "code",
   "execution_count": 3,
   "id": "220ba5a3-04fe-42b2-8860-fffbb3d072a1",
   "metadata": {},
   "outputs": [
    {
     "data": {
      "text/plain": [
       "20"
      ]
     },
     "execution_count": 3,
     "metadata": {},
     "output_type": "execute_result"
    }
   ],
   "source": [
    "4*5"
   ]
  },
  {
   "cell_type": "code",
   "execution_count": 4,
   "id": "60ec8c13-88fc-44e3-a70d-23b650aed225",
   "metadata": {},
   "outputs": [
    {
     "data": {
      "text/plain": [
       "20"
      ]
     },
     "execution_count": 4,
     "metadata": {},
     "output_type": "execute_result"
    }
   ],
   "source": [
    "2*10"
   ]
  },
  {
   "cell_type": "markdown",
   "id": "26c6f657-0570-4579-9f68-764ee441922d",
   "metadata": {},
   "source": [
    "### Division:"
   ]
  },
  {
   "cell_type": "code",
   "execution_count": 5,
   "id": "b6ae3ec9-89b1-4ca3-ba82-b4672447c879",
   "metadata": {},
   "outputs": [
    {
     "data": {
      "text/plain": [
       "5.0"
      ]
     },
     "execution_count": 5,
     "metadata": {},
     "output_type": "execute_result"
    }
   ],
   "source": [
    "10/2"
   ]
  },
  {
   "cell_type": "markdown",
   "id": "b8e0e209-b23f-4e93-8047-fe4c0e3cc903",
   "metadata": {},
   "source": [
    "### Modulus:"
   ]
  },
  {
   "cell_type": "code",
   "execution_count": 6,
   "id": "04679b53-d6b6-48aa-9374-1c051650551a",
   "metadata": {},
   "outputs": [
    {
     "data": {
      "text/plain": [
       "0"
      ]
     },
     "execution_count": 6,
     "metadata": {},
     "output_type": "execute_result"
    }
   ],
   "source": [
    "10%2"
   ]
  },
  {
   "cell_type": "markdown",
   "id": "82277bf7-d92b-46fc-a686-2d04c0538b92",
   "metadata": {},
   "source": [
    "### Power of:"
   ]
  },
  {
   "cell_type": "code",
   "execution_count": 7,
   "id": "65965408-5ddc-4bd1-a8be-2455cbc937cb",
   "metadata": {},
   "outputs": [
    {
     "data": {
      "text/plain": [
       "100"
      ]
     },
     "execution_count": 7,
     "metadata": {},
     "output_type": "execute_result"
    }
   ],
   "source": [
    "10**2"
   ]
  },
  {
   "cell_type": "code",
   "execution_count": 8,
   "id": "55b8248c-e5f7-477f-aa7c-1eb1e872526b",
   "metadata": {},
   "outputs": [
    {
     "data": {
      "text/plain": [
       "3125"
      ]
     },
     "execution_count": 8,
     "metadata": {},
     "output_type": "execute_result"
    }
   ],
   "source": [
    "5**5"
   ]
  },
  {
   "cell_type": "markdown",
   "id": "3713c466-0edf-473d-919b-3bcf14713acf",
   "metadata": {},
   "source": [
    "### Repeat the string n times:"
   ]
  },
  {
   "cell_type": "code",
   "execution_count": 9,
   "id": "f979ca0f-a8e0-44a5-8549-5e705057de4b",
   "metadata": {},
   "outputs": [
    {
     "data": {
      "text/plain": [
       "'strstrstrstrstrstrstr'"
      ]
     },
     "execution_count": 9,
     "metadata": {},
     "output_type": "execute_result"
    }
   ],
   "source": [
    "7*'str'"
   ]
  },
  {
   "cell_type": "markdown",
   "id": "4fd476f3-12b0-4625-8ac6-9d571f1e74e1",
   "metadata": {},
   "source": [
    "#### Finding datatype:"
   ]
  },
  {
   "cell_type": "code",
   "execution_count": 12,
   "id": "5091acd4-b616-4d55-8d68-caf51fcadd38",
   "metadata": {},
   "outputs": [
    {
     "data": {
      "text/plain": [
       "int"
      ]
     },
     "execution_count": 12,
     "metadata": {},
     "output_type": "execute_result"
    }
   ],
   "source": [
    "type(9)"
   ]
  },
  {
   "cell_type": "code",
   "execution_count": 13,
   "id": "0068965a-540a-4ac5-9708-8275a5c5927c",
   "metadata": {},
   "outputs": [
    {
     "data": {
      "text/plain": [
       "float"
      ]
     },
     "execution_count": 13,
     "metadata": {},
     "output_type": "execute_result"
    }
   ],
   "source": [
    "type(8.97)"
   ]
  },
  {
   "cell_type": "code",
   "execution_count": 14,
   "id": "e0a7d6f3-2ebb-4ab3-a928-a522bf8fbdfe",
   "metadata": {},
   "outputs": [
    {
     "data": {
      "text/plain": [
       "str"
      ]
     },
     "execution_count": 14,
     "metadata": {},
     "output_type": "execute_result"
    }
   ],
   "source": [
    "type(\"Prava\")"
   ]
  },
  {
   "cell_type": "code",
   "execution_count": 17,
   "id": "776951da-8c99-41c4-8d88-78e49b0b3409",
   "metadata": {},
   "outputs": [
    {
     "data": {
      "text/plain": [
       "bool"
      ]
     },
     "execution_count": 17,
     "metadata": {},
     "output_type": "execute_result"
    }
   ],
   "source": [
    "type(False)"
   ]
  },
  {
   "cell_type": "code",
   "execution_count": 6,
   "id": "14ec0d3c-6f93-4bd6-a2c8-611f1e21dbf1",
   "metadata": {},
   "outputs": [
    {
     "data": {
      "text/plain": [
       "list"
      ]
     },
     "execution_count": 6,
     "metadata": {},
     "output_type": "execute_result"
    }
   ],
   "source": [
    "type([[1, 2, 3], [4, 5, 6]])"
   ]
  },
  {
   "cell_type": "code",
   "execution_count": 3,
   "id": "7cf47dfb-dcc3-4811-a022-3f204670b50b",
   "metadata": {},
   "outputs": [
    {
     "data": {
      "text/plain": [
       "list"
      ]
     },
     "execution_count": 3,
     "metadata": {},
     "output_type": "execute_result"
    }
   ],
   "source": [
    "type([1, 2, 3, 4, 5])"
   ]
  },
  {
   "cell_type": "code",
   "execution_count": 4,
   "id": "1544a07e-e989-40d5-a23e-f2a8b6741718",
   "metadata": {},
   "outputs": [
    {
     "data": {
      "text/plain": [
       "set"
      ]
     },
     "execution_count": 4,
     "metadata": {},
     "output_type": "execute_result"
    }
   ],
   "source": [
    "type({1, 2, 3, 4, 5})"
   ]
  },
  {
   "cell_type": "code",
   "execution_count": 5,
   "id": "58d8ea6c-e03b-4d64-af9d-1b84ba1a37c3",
   "metadata": {},
   "outputs": [
    {
     "data": {
      "text/plain": [
       "dict"
      ]
     },
     "execution_count": 5,
     "metadata": {},
     "output_type": "execute_result"
    }
   ],
   "source": [
    "type({1: 'Benz', 2: 'Honda', 3:'Mercedes'})"
   ]
  },
  {
   "cell_type": "markdown",
   "id": "66d10941-f837-40e3-a2c0-6d92deb6b5e0",
   "metadata": {},
   "source": [
    "### Ways of Printing:"
   ]
  },
  {
   "cell_type": "markdown",
   "id": "2fef926b-276b-4acc-9f23-3c1060c0cfd4",
   "metadata": {},
   "source": [
    "### Normal printing:"
   ]
  },
  {
   "cell_type": "code",
   "execution_count": 15,
   "id": "802bbfe2-307d-42f0-a36b-381db23af2c2",
   "metadata": {},
   "outputs": [
    {
     "name": "stdout",
     "output_type": "stream",
     "text": [
      "She is Pravallika\n",
      "Her age is 25\n",
      "Hello World!\n"
     ]
    }
   ],
   "source": [
    "print(\"She is Pravallika\")\n",
    "print(\"Her age is 25\")\n",
    "print(\"Hello World!\")"
   ]
  },
  {
   "cell_type": "markdown",
   "id": "b28d10ef-94a6-4c8f-95fb-ac01f7412154",
   "metadata": {},
   "source": [
    "### Format Printing:"
   ]
  },
  {
   "cell_type": "code",
   "execution_count": 9,
   "id": "3008f31a-ec9d-4405-8636-880bf7020f3b",
   "metadata": {},
   "outputs": [
    {
     "name": "stdout",
     "output_type": "stream",
     "text": [
      "Hi\n",
      "My first name is Pravallika and last name is Uppala. So, full name is Pravallika Uppala.\n"
     ]
    }
   ],
   "source": [
    "print(\"Hi\")\n",
    "first_name = 'Pravallika'\n",
    "last_name = 'Uppala'\n",
    "\n",
    "#Order matters:\n",
    "print(\"My first name is {} and last name is {}. So, full name is {}.\".format(first_name, last_name, first_name+' '+last_name))\n"
   ]
  },
  {
   "cell_type": "code",
   "execution_count": 10,
   "id": "dce45cd2-56ea-4729-b599-9178f9fcc72c",
   "metadata": {},
   "outputs": [
    {
     "name": "stdout",
     "output_type": "stream",
     "text": [
      "My first name is Pravallika and last name is Uppala. So, full name is Pravallika Uppala.\n"
     ]
    }
   ],
   "source": [
    "#Order doesn't matter:\n",
    "print(\"My first name is {first} and last name is {last}. So, full name is {full}.\".format(full=first_name+' '+last_name, last=last_name, first=first_name))\n",
    "\n"
   ]
  },
  {
   "cell_type": "markdown",
   "id": "0b606e1f-3a16-414d-a8d2-63e9d6591e2d",
   "metadata": {},
   "source": [
    "### Drawing a shape:"
   ]
  },
  {
   "cell_type": "code",
   "execution_count": 17,
   "id": "6faf1608-f7dd-4f80-b11a-ed76e797117f",
   "metadata": {},
   "outputs": [
    {
     "name": "stdout",
     "output_type": "stream",
     "text": [
      "         /|\n",
      "        / |\n",
      "       /  |\n",
      "      /   |\n",
      "     /    |\n",
      "    /     |\n",
      "   /      |\n",
      "  /       |\n",
      " /        |\n",
      "/_________|\n"
     ]
    }
   ],
   "source": [
    "print(\"         /|\")\n",
    "print(\"        / |\")\n",
    "print(\"       /  |\")\n",
    "print(\"      /   |\")\n",
    "print(\"     /    |\")\n",
    "print(\"    /     |\")\n",
    "print(\"   /      |\")\n",
    "print(\"  /       |\")\n",
    "print(\" /        |\")\n",
    "print(\"/_________|\")"
   ]
  },
  {
   "cell_type": "code",
   "execution_count": 19,
   "id": "5ea63719-24d7-4a30-b715-6e2dd9a914db",
   "metadata": {},
   "outputs": [
    {
     "name": "stdout",
     "output_type": "stream",
     "text": [
      "*      *\n",
      " *    *\n",
      "  *  *\n",
      "   *\n",
      "  * *\n",
      " *   *\n"
     ]
    }
   ],
   "source": [
    "print(\"*      *\")\n",
    "print(\" *    *\")\n",
    "print(\"  *  *\")\n",
    "print(\"   *\")\n",
    "print(\"  * *\")\n",
    "print(\" *   *\")"
   ]
  },
  {
   "cell_type": "markdown",
   "id": "f4124423-a362-4b27-bf99-27d8410805d7",
   "metadata": {},
   "source": [
    "## Variables & Datatypes:"
   ]
  },
  {
   "cell_type": "markdown",
   "id": "bc2ff425-effa-48ec-a90d-9c80c666300f",
   "metadata": {},
   "source": [
    "### Variable Assignment:"
   ]
  },
  {
   "cell_type": "code",
   "execution_count": 11,
   "id": "016b3bf7-b004-4f3f-980b-ed8280651261",
   "metadata": {},
   "outputs": [
    {
     "name": "stdout",
     "output_type": "stream",
     "text": [
      "<class 'str'>\n",
      "<class 'str'>\n"
     ]
    }
   ],
   "source": [
    "a=\"hello\"\n",
    "b='Pravallika'\n",
    "print(type(a))\n",
    "print(type(b))"
   ]
  },
  {
   "cell_type": "code",
   "execution_count": 20,
   "id": "3c36ad65-c4f1-4be8-b8e4-efc715545ad1",
   "metadata": {},
   "outputs": [
    {
     "name": "stdout",
     "output_type": "stream",
     "text": [
      "Pravallika\n",
      "25\n"
     ]
    }
   ],
   "source": [
    "name=\"Pravallika\"\n",
    "age= 25\n",
    "print(name)\n",
    "print(age)"
   ]
  },
  {
   "cell_type": "code",
   "execution_count": 21,
   "id": "dfd39eb3-4f0e-4d2e-a5b0-4455c0e1b97c",
   "metadata": {},
   "outputs": [
    {
     "name": "stdout",
     "output_type": "stream",
     "text": [
      "Her name is Pravallika\n",
      "Her age is 25\n"
     ]
    }
   ],
   "source": [
    "print(\"Her name is\", name)\n",
    "print(\"Her age is\", age)"
   ]
  },
  {
   "cell_type": "markdown",
   "id": "d3ac720f-9de6-4971-8e39-8691f4468923",
   "metadata": {},
   "source": [
    "### Mathematical Operation with variable Assignment:"
   ]
  },
  {
   "cell_type": "code",
   "execution_count": 14,
   "id": "3748702e-7325-4427-a8c7-073ea67eb8d9",
   "metadata": {},
   "outputs": [
    {
     "name": "stdout",
     "output_type": "stream",
     "text": [
      "30\n",
      "10\n",
      "200\n",
      "0.5\n",
      "10\n",
      "200.5\n"
     ]
    }
   ],
   "source": [
    "a = 10\n",
    "b = 20\n",
    "print(a+b)\n",
    "print(b-a)\n",
    "print(a*b)\n",
    "print(a/b)\n",
    "print(a%b)\n",
    "print((a*b)+(a/b))"
   ]
  },
  {
   "cell_type": "markdown",
   "id": "7a1596aa-ebb7-404a-a0c9-2f9175f05b88",
   "metadata": {},
   "source": [
    "### Variable Modification:"
   ]
  },
  {
   "cell_type": "code",
   "execution_count": 25,
   "id": "c361622e-e3ca-45b9-92c7-b2d4f71c7c6e",
   "metadata": {},
   "outputs": [
    {
     "name": "stdout",
     "output_type": "stream",
     "text": [
      "Her name is Pravallika\n",
      "Her age is 25 years old\n",
      "His name is Phani krishna\n",
      "His age is 29 years old\n"
     ]
    }
   ],
   "source": [
    "char_name = \"Pravallika\"\n",
    "char_age = 25\n",
    "print(\"Her name is\",char_name)\n",
    "print(\"Her age is\",char_age,\"years old\")\n",
    "#variable modification:\n",
    "char_name = \"Phani krishna\"\n",
    "char_age = 29\n",
    "print(\"His name is\",char_name)\n",
    "print(\"His age is {} years old\".format(char_age))"
   ]
  },
  {
   "cell_type": "markdown",
   "id": "477a6466-7f56-4fce-bba7-b9fe4ed9fc90",
   "metadata": {},
   "source": [
    "## DATA TYPES:"
   ]
  },
  {
   "cell_type": "markdown",
   "id": "31d74cfd-2ac9-4a20-a336-d84a8cc4f110",
   "metadata": {},
   "source": [
    "3 Basic types:\n",
    ". Strings\n",
    ". Numbers\n",
    ". Boolean"
   ]
  },
  {
   "cell_type": "markdown",
   "id": "bb0c6a58-58be-47f0-8662-0a42325cc96d",
   "metadata": {},
   "source": [
    "## INPUT FROM USERS:"
   ]
  },
  {
   "cell_type": "code",
   "execution_count": 1,
   "id": "37266185-0cd8-4fdc-8773-37e0aef9eb59",
   "metadata": {},
   "outputs": [
    {
     "name": "stdin",
     "output_type": "stream",
     "text": [
      "Enter number: 3\n"
     ]
    },
    {
     "data": {
      "text/plain": [
       "'3'"
      ]
     },
     "execution_count": 1,
     "metadata": {},
     "output_type": "execute_result"
    }
   ],
   "source": [
    "input(\"Enter number:\")"
   ]
  },
  {
   "cell_type": "code",
   "execution_count": 2,
   "id": "3665292e-7396-49b0-b3cb-bc509621f85e",
   "metadata": {},
   "outputs": [
    {
     "name": "stdin",
     "output_type": "stream",
     "text": [
      "Enter your name Pravallika\n",
      "Enter your age 25\n"
     ]
    },
    {
     "name": "stdout",
     "output_type": "stream",
     "text": [
      "Hi, Pravallika. You are 25 years old.\n"
     ]
    }
   ],
   "source": [
    "#To store number \n",
    "user_name = input(\"Enter your name\")\n",
    "user_age = input(\"Enter your age\")\n",
    "print(\"Hi, {}. You are {} years old.\".format(user_name,user_age))\n"
   ]
  },
  {
   "cell_type": "code",
   "execution_count": null,
   "id": "53ae84cd-1821-4a51-bc54-feea4964f55a",
   "metadata": {},
   "outputs": [],
   "source": []
  }
 ],
 "metadata": {
  "kernelspec": {
   "display_name": "Python 3 (ipykernel)",
   "language": "python",
   "name": "python3"
  },
  "language_info": {
   "codemirror_mode": {
    "name": "ipython",
    "version": 3
   },
   "file_extension": ".py",
   "mimetype": "text/x-python",
   "name": "python",
   "nbconvert_exporter": "python",
   "pygments_lexer": "ipython3",
   "version": "3.11.7"
  }
 },
 "nbformat": 4,
 "nbformat_minor": 5
}
