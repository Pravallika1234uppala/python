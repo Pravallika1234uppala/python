{
 "cells": [
  {
   "cell_type": "markdown",
   "id": "ec03c7db-c9a3-4906-a02c-9d32741c6b18",
   "metadata": {},
   "source": [
    "## Strings:"
   ]
  },
  {
   "cell_type": "markdown",
   "id": "964a0cc4-aabf-4f78-928f-bea42fb92133",
   "metadata": {},
   "source": [
    "Plain text is stored inside the string.\n",
    "\n",
    "Using quotes-to print or create string."
   ]
  },
  {
   "cell_type": "code",
   "execution_count": 10,
   "id": "9a58cb59-301d-4d9a-992e-729f9c4745d5",
   "metadata": {},
   "outputs": [
    {
     "name": "stdout",
     "output_type": "stream",
     "text": [
      "Mammal Academy\n"
     ]
    }
   ],
   "source": [
    "print(\"Mammal Academy\")"
   ]
  },
  {
   "cell_type": "markdown",
   "id": "91680267-195c-42da-8b43-563995180965",
   "metadata": {},
   "source": [
    "### Creating a new line inside a string:"
   ]
  },
  {
   "cell_type": "code",
   "execution_count": 11,
   "id": "47ab9483-6b48-438c-a823-5a1072e1cfe2",
   "metadata": {},
   "outputs": [
    {
     "name": "stdout",
     "output_type": "stream",
     "text": [
      "Pravallika\n",
      "Uppala\n"
     ]
    }
   ],
   "source": [
    "print(\"Pravallika\\nUppala\")"
   ]
  },
  {
   "cell_type": "markdown",
   "id": "7ce0f683-99f3-4b6e-b408-f034220883d0",
   "metadata": {},
   "source": [
    "### Creating a double quote inside a string:"
   ]
  },
  {
   "cell_type": "code",
   "execution_count": 12,
   "id": "b86d3620-bcdb-4100-b2c5-cf8026733ef5",
   "metadata": {},
   "outputs": [
    {
     "name": "stdout",
     "output_type": "stream",
     "text": [
      "Pravallika\"Uppala\n"
     ]
    }
   ],
   "source": [
    "print(\"Pravallika\\\"Uppala\")"
   ]
  },
  {
   "cell_type": "markdown",
   "id": "4c394e50-c3f3-4785-aad7-4c6eca682d7b",
   "metadata": {},
   "source": [
    "### Creating a backslash character or escape character inside the string:"
   ]
  },
  {
   "cell_type": "code",
   "execution_count": 13,
   "id": "8f5b5215-4652-4d36-a05b-bc1f3b1942d0",
   "metadata": {},
   "outputs": [
    {
     "name": "stdout",
     "output_type": "stream",
     "text": [
      "Pravallika\\Uppala\n"
     ]
    }
   ],
   "source": [
    "print(\"Pravallika\\\\Uppala\")"
   ]
  },
  {
   "cell_type": "markdown",
   "id": "5bed47e2-b402-4d31-8e84-f4829b8b047c",
   "metadata": {},
   "source": [
    "### Creating string variable:"
   ]
  },
  {
   "cell_type": "code",
   "execution_count": 14,
   "id": "3f332b60-92a1-49af-aa36-e11958b79b9a",
   "metadata": {},
   "outputs": [
    {
     "name": "stdout",
     "output_type": "stream",
     "text": [
      "She is beautiful\n"
     ]
    }
   ],
   "source": [
    "phrase = \"She is beautiful\"\n",
    "print(phrase)"
   ]
  },
  {
   "cell_type": "markdown",
   "id": "a0f5ef48-9a65-4c5a-99a7-371ac94ec7eb",
   "metadata": {},
   "source": [
    "### Concatenation:"
   ]
  },
  {
   "cell_type": "markdown",
   "id": "96549b23-6309-4c8c-8848-ef53b20b7e9c",
   "metadata": {},
   "source": [
    "Appending of strings"
   ]
  },
  {
   "cell_type": "code",
   "execution_count": 16,
   "id": "25977b8f-4335-4da1-8de7-6921ef832c57",
   "metadata": {},
   "outputs": [
    {
     "name": "stdout",
     "output_type": "stream",
     "text": [
      "She is beautiful and also intelligent.\n"
     ]
    }
   ],
   "source": [
    "additional_phrase = \" and also intelligent.\"\n",
    "print(phrase+additional_phrase)"
   ]
  },
  {
   "cell_type": "markdown",
   "id": "bf9291b1-3935-4b5a-99e1-07b7886705c1",
   "metadata": {},
   "source": [
    "### Using Functions in Strings:"
   ]
  },
  {
   "cell_type": "markdown",
   "id": "27e26fbc-116e-4ee8-8e27-fbe93890050a",
   "metadata": {},
   "source": [
    "Function - block of code that can be run.\n",
    "\n",
    "Functions to:modify strings, get information about strings"
   ]
  },
  {
   "cell_type": "markdown",
   "id": "dc142b1a-3ad9-4399-a4d3-c79062a991bc",
   "metadata": {},
   "source": [
    "To convert strings to lowercase:"
   ]
  },
  {
   "cell_type": "code",
   "execution_count": 18,
   "id": "10e39a5d-56ae-42d4-a076-662423db77f6",
   "metadata": {},
   "outputs": [
    {
     "name": "stdout",
     "output_type": "stream",
     "text": [
      "she is beautiful\n"
     ]
    }
   ],
   "source": [
    "print(phrase.lower())"
   ]
  },
  {
   "cell_type": "markdown",
   "id": "7d35f67e-7a47-4788-872f-b7998071013d",
   "metadata": {},
   "source": [
    "To convert strings to uppercase:"
   ]
  },
  {
   "cell_type": "code",
   "execution_count": 19,
   "id": "a3cca57e-4819-458e-b51e-2a35f79f7111",
   "metadata": {},
   "outputs": [
    {
     "name": "stdout",
     "output_type": "stream",
     "text": [
      "SHE IS BEAUTIFUL\n"
     ]
    }
   ],
   "source": [
    "print(phrase.upper())"
   ]
  },
  {
   "cell_type": "markdown",
   "id": "4d2248a0-8370-47c2-aae2-e78d84daa34b",
   "metadata": {},
   "source": [
    "To check if string is uppercase/lowercase:"
   ]
  },
  {
   "cell_type": "code",
   "execution_count": 20,
   "id": "8ec6d3d2-b2bb-4fa9-b01a-dcf5d57e4d12",
   "metadata": {},
   "outputs": [
    {
     "name": "stdout",
     "output_type": "stream",
     "text": [
      "False\n"
     ]
    }
   ],
   "source": [
    "print(phrase.isupper()) \n",
    "#true-if string is entirely uppercase and false otherwise"
   ]
  },
  {
   "cell_type": "code",
   "execution_count": 21,
   "id": "1e501bac-47eb-416d-b398-43ba425296eb",
   "metadata": {},
   "outputs": [
    {
     "name": "stdout",
     "output_type": "stream",
     "text": [
      "False\n"
     ]
    }
   ],
   "source": [
    "print(phrase.islower())\n",
    "#true-if string is entirely lowercase and false otherwise"
   ]
  },
  {
   "cell_type": "markdown",
   "id": "90e62aa8-ac8a-41d9-9953-a0d965d8619b",
   "metadata": {},
   "source": [
    "Use of Combination of functions:"
   ]
  },
  {
   "cell_type": "code",
   "execution_count": 23,
   "id": "0648c35e-25ee-4e28-ae80-2d2dd0e9e3df",
   "metadata": {},
   "outputs": [
    {
     "name": "stdout",
     "output_type": "stream",
     "text": [
      "True\n"
     ]
    }
   ],
   "source": [
    "print(phrase.upper().isupper())\n",
    "\n",
    "#1. phrase.upper() - convert string to upper case A result-return A as string\n",
    "#2. A.isupper() - True - return bool value"
   ]
  },
  {
   "cell_type": "markdown",
   "id": "9d0057fd-2f74-4763-86ce-e66a47bbac93",
   "metadata": {},
   "source": [
    "To find length of the string:"
   ]
  },
  {
   "cell_type": "code",
   "execution_count": 24,
   "id": "9590226b-20da-4942-8fc2-b401362b76bf",
   "metadata": {},
   "outputs": [
    {
     "name": "stdout",
     "output_type": "stream",
     "text": [
      "16\n"
     ]
    }
   ],
   "source": [
    "print(len(phrase))"
   ]
  },
  {
   "cell_type": "code",
   "execution_count": 26,
   "id": "e259538a-9071-416f-9c46-5bf7c9f4a63c",
   "metadata": {},
   "outputs": [
    {
     "name": "stdout",
     "output_type": "stream",
     "text": [
      "5\n"
     ]
    }
   ],
   "source": [
    "print(len('Prava')) #length of string"
   ]
  },
  {
   "cell_type": "markdown",
   "id": "5df93911-e553-4fb5-873f-a9030b9f971b",
   "metadata": {},
   "source": [
    "To find the type of a variable/string:"
   ]
  },
  {
   "cell_type": "code",
   "execution_count": 27,
   "id": "18570538-c4b1-44e8-a891-ac934da1d2f9",
   "metadata": {},
   "outputs": [
    {
     "name": "stdout",
     "output_type": "stream",
     "text": [
      "<class 'str'>\n",
      "<class 'str'>\n"
     ]
    }
   ],
   "source": [
    "variable_name = \"value\" #String\n",
    "a = 'Prava' #String\n",
    "print(type(a)) #type-String\n",
    "print(type('Prava')) #type-string"
   ]
  },
  {
   "cell_type": "markdown",
   "id": "09e7f31e-0f37-4f4e-8f24-a39214a5a1b8",
   "metadata": {},
   "source": [
    "Getting individual characters inside string:"
   ]
  },
  {
   "cell_type": "code",
   "execution_count": 28,
   "id": "41317885-dbf7-479d-b279-ab2ea8f5e653",
   "metadata": {},
   "outputs": [
    {
     "name": "stdout",
     "output_type": "stream",
     "text": [
      "S\n"
     ]
    }
   ],
   "source": [
    "print(phrase[0]) # first character"
   ]
  },
  {
   "cell_type": "code",
   "execution_count": 30,
   "id": "f81a4d01-ee1d-4421-89b1-c2201f5ec549",
   "metadata": {},
   "outputs": [
    {
     "name": "stdout",
     "output_type": "stream",
     "text": [
      " \n"
     ]
    }
   ],
   "source": [
    "print(phrase[3]) #space"
   ]
  },
  {
   "cell_type": "markdown",
   "id": "70e634e8-b8a7-4de6-ba90-8a58c2932547",
   "metadata": {},
   "source": [
    "Index function:"
   ]
  },
  {
   "cell_type": "code",
   "execution_count": 33,
   "id": "bf334315-287b-48c7-9bcf-f9a2964f3a39",
   "metadata": {},
   "outputs": [
    {
     "data": {
      "text/plain": [
       "4"
      ]
     },
     "execution_count": 33,
     "metadata": {},
     "output_type": "execute_result"
    }
   ],
   "source": [
    "phrase.index(\"i\") #for character"
   ]
  },
  {
   "cell_type": "code",
   "execution_count": 34,
   "id": "56402f78-28d4-4727-ade1-b050da3f7bb6",
   "metadata": {},
   "outputs": [
    {
     "ename": "ValueError",
     "evalue": "substring not found",
     "output_type": "error",
     "traceback": [
      "\u001b[0;31m---------------------------------------------------------------------------\u001b[0m",
      "\u001b[0;31mValueError\u001b[0m                                Traceback (most recent call last)",
      "Cell \u001b[0;32mIn[34], line 2\u001b[0m\n\u001b[1;32m      1\u001b[0m \u001b[38;5;66;03m#python is case sensitive\u001b[39;00m\n\u001b[0;32m----> 2\u001b[0m phrase\u001b[38;5;241m.\u001b[39mindex(\u001b[38;5;124m\"\u001b[39m\u001b[38;5;124mI\u001b[39m\u001b[38;5;124m\"\u001b[39m)\n",
      "\u001b[0;31mValueError\u001b[0m: substring not found"
     ]
    }
   ],
   "source": [
    "#python is case sensitive\n",
    "phrase.index(\"I\")"
   ]
  },
  {
   "cell_type": "code",
   "execution_count": 35,
   "id": "0af50a95-35d1-4d62-8c3c-ddc5b27f4a1d",
   "metadata": {},
   "outputs": [
    {
     "data": {
      "text/plain": [
       "7"
      ]
     },
     "execution_count": 35,
     "metadata": {},
     "output_type": "execute_result"
    }
   ],
   "source": [
    "phrase.index(\"beauti\") #for substring"
   ]
  },
  {
   "cell_type": "code",
   "execution_count": 36,
   "id": "b8d86004-4865-486d-b6a2-60d89b306ea3",
   "metadata": {},
   "outputs": [
    {
     "ename": "ValueError",
     "evalue": "substring not found",
     "output_type": "error",
     "traceback": [
      "\u001b[0;31m---------------------------------------------------------------------------\u001b[0m",
      "\u001b[0;31mValueError\u001b[0m                                Traceback (most recent call last)",
      "Cell \u001b[0;32mIn[36], line 1\u001b[0m\n\u001b[0;32m----> 1\u001b[0m phrase\u001b[38;5;241m.\u001b[39mindex(\u001b[38;5;124m\"\u001b[39m\u001b[38;5;124mz\u001b[39m\u001b[38;5;124m\"\u001b[39m)\n",
      "\u001b[0;31mValueError\u001b[0m: substring not found"
     ]
    }
   ],
   "source": [
    "phrase.index(\"z\")"
   ]
  },
  {
   "cell_type": "markdown",
   "id": "381af6de-2d73-4eca-a2c2-0316e54eb9ad",
   "metadata": {},
   "source": [
    "Replace function:"
   ]
  },
  {
   "cell_type": "code",
   "execution_count": 38,
   "id": "3484b4b9-0f20-4579-88c0-2188652c23f6",
   "metadata": {},
   "outputs": [
    {
     "data": {
      "text/plain": [
       "'She is Gorgeous'"
      ]
     },
     "execution_count": 38,
     "metadata": {},
     "output_type": "execute_result"
    }
   ],
   "source": [
    "phrase.replace(\"beautiful\", \"Gorgeous\") #prints phrase after replacement"
   ]
  },
  {
   "cell_type": "markdown",
   "id": "2640aea6-ffc5-4003-acd8-623e1893572c",
   "metadata": {},
   "source": [
    "## Numbers:"
   ]
  },
  {
   "cell_type": "code",
   "execution_count": 1,
   "id": "50a6c8af-44ab-4708-8510-2ba4b2346554",
   "metadata": {},
   "outputs": [
    {
     "name": "stdout",
     "output_type": "stream",
     "text": [
      "2\n",
      "2.8\n",
      "-2.8\n"
     ]
    }
   ],
   "source": [
    "print(2) #whole number\n",
    "print(2.8) #Decimal number\n",
    "print(-2.8)"
   ]
  },
  {
   "cell_type": "markdown",
   "id": "1364e9ef-6c22-4c60-84d7-243759d80ac0",
   "metadata": {},
   "source": [
    "### Basic Arithmetic:"
   ]
  },
  {
   "cell_type": "markdown",
   "id": "18a20b0d-815c-4815-98b7-0355f65f259a",
   "metadata": {},
   "source": [
    "Addition, Subtraction, Multiplication, Division."
   ]
  },
  {
   "cell_type": "code",
   "execution_count": 4,
   "id": "08c21361-276e-48d9-84f3-f2005d5efac3",
   "metadata": {},
   "outputs": [
    {
     "name": "stdout",
     "output_type": "stream",
     "text": [
      "7\n",
      "8.5\n",
      "12.8\n"
     ]
    }
   ],
   "source": [
    "print(3+4)\n",
    "print(3+5.5)\n",
    "print(8.5+4.3)"
   ]
  },
  {
   "cell_type": "code",
   "execution_count": 7,
   "id": "e3da0b58-60b7-477b-8565-b51e2389b0b5",
   "metadata": {},
   "outputs": [
    {
     "name": "stdout",
     "output_type": "stream",
     "text": [
      "2\n",
      "-4\n"
     ]
    }
   ],
   "source": [
    "print(5-3)\n",
    "print(6-10)"
   ]
  },
  {
   "cell_type": "code",
   "execution_count": 6,
   "id": "3a5190e7-aaad-4aa1-852f-ff16927948cf",
   "metadata": {},
   "outputs": [
    {
     "name": "stdout",
     "output_type": "stream",
     "text": [
      "9\n",
      "22.0\n",
      "44.24\n"
     ]
    }
   ],
   "source": [
    "print(3*3)\n",
    "print(4*5.5)\n",
    "print(5.6*7.9)"
   ]
  },
  {
   "cell_type": "code",
   "execution_count": 8,
   "id": "e9dda91e-c586-4b42-9f5a-b305f345bc87",
   "metadata": {},
   "outputs": [
    {
     "name": "stdout",
     "output_type": "stream",
     "text": [
      "2.0\n",
      "8.666666666666666\n"
     ]
    }
   ],
   "source": [
    "print(10/5) #Quotient\n",
    "print(26/3)"
   ]
  },
  {
   "cell_type": "code",
   "execution_count": 9,
   "id": "7a783f1b-fd7e-4aa9-9ede-03d74d4bed58",
   "metadata": {},
   "outputs": [
    {
     "name": "stdout",
     "output_type": "stream",
     "text": [
      "179\n"
     ]
    }
   ],
   "source": [
    "print(5*34+9)"
   ]
  },
  {
   "cell_type": "code",
   "execution_count": 10,
   "id": "ac3761b1-cd29-40be-9785-1c2e7d2a2008",
   "metadata": {},
   "outputs": [
    {
     "name": "stdout",
     "output_type": "stream",
     "text": [
      "215\n"
     ]
    }
   ],
   "source": [
    "print(5*(34+9)) #To change order"
   ]
  },
  {
   "cell_type": "code",
   "execution_count": 11,
   "id": "d0ac160c-afa1-49d7-b041-b1b3a296b201",
   "metadata": {},
   "outputs": [
    {
     "name": "stdout",
     "output_type": "stream",
     "text": [
      "1\n"
     ]
    }
   ],
   "source": [
    "print(10%3) #Remainder"
   ]
  },
  {
   "cell_type": "markdown",
   "id": "0aacf1c9-b39e-42d0-ae5a-5b2359105134",
   "metadata": {},
   "source": [
    "### Storing Numbers inside variables:"
   ]
  },
  {
   "cell_type": "code",
   "execution_count": 12,
   "id": "4669b527-73e4-4221-9d15-c47ff1a25fc9",
   "metadata": {},
   "outputs": [
    {
     "name": "stdout",
     "output_type": "stream",
     "text": [
      "9\n"
     ]
    }
   ],
   "source": [
    "a_num = 9\n",
    "print(a_num)"
   ]
  },
  {
   "cell_type": "markdown",
   "id": "68ff6acd-b588-48de-9b01-71a49ad37705",
   "metadata": {},
   "source": [
    "### Converting number to string:"
   ]
  },
  {
   "cell_type": "code",
   "execution_count": 14,
   "id": "a022e4f3-3b37-4b34-b88d-62ee2d2b4adc",
   "metadata": {},
   "outputs": [
    {
     "name": "stdout",
     "output_type": "stream",
     "text": [
      "9\n"
     ]
    }
   ],
   "source": [
    "print(str(a_num)) #'9'"
   ]
  },
  {
   "cell_type": "code",
   "execution_count": 16,
   "id": "9c052114-dbfd-4b9f-b8e8-43061206761f",
   "metadata": {},
   "outputs": [
    {
     "name": "stdout",
     "output_type": "stream",
     "text": [
      "9 this is my day of birth\n"
     ]
    }
   ],
   "source": [
    "print(str(a_num)+\" this is my day of birth\")"
   ]
  },
  {
   "cell_type": "code",
   "execution_count": 17,
   "id": "ee9e960e-4ce3-4c03-aac7-0bf16d19d251",
   "metadata": {},
   "outputs": [
    {
     "ename": "TypeError",
     "evalue": "unsupported operand type(s) for +: 'int' and 'str'",
     "output_type": "error",
     "traceback": [
      "\u001b[0;31m---------------------------------------------------------------------------\u001b[0m",
      "\u001b[0;31mTypeError\u001b[0m                                 Traceback (most recent call last)",
      "Cell \u001b[0;32mIn[17], line 2\u001b[0m\n\u001b[1;32m      1\u001b[0m \u001b[38;5;66;03m#if not converted:\u001b[39;00m\n\u001b[0;32m----> 2\u001b[0m \u001b[38;5;28mprint\u001b[39m(a_num\u001b[38;5;241m+\u001b[39m\u001b[38;5;124m\"\u001b[39m\u001b[38;5;124m this is my day of birth\u001b[39m\u001b[38;5;124m\"\u001b[39m)\n",
      "\u001b[0;31mTypeError\u001b[0m: unsupported operand type(s) for +: 'int' and 'str'"
     ]
    }
   ],
   "source": [
    "#if not converted:\n",
    "print(a_num+\" this is my day of birth\")"
   ]
  },
  {
   "cell_type": "markdown",
   "id": "854b2fc6-3a87-4b18-93d9-941719372290",
   "metadata": {},
   "source": [
    "abs(x):"
   ]
  },
  {
   "cell_type": "code",
   "execution_count": 21,
   "id": "0b2cceed-dcfe-4658-94b7-9c716b7b27f5",
   "metadata": {},
   "outputs": [
    {
     "name": "stdout",
     "output_type": "stream",
     "text": [
      "-5\n",
      "5\n"
     ]
    }
   ],
   "source": [
    "a_num = -5\n",
    "print(a_num)\n",
    "print(abs(a_num))"
   ]
  },
  {
   "cell_type": "markdown",
   "id": "5c82d49d-dbe0-48a5-9f83-a2644ee95b1d",
   "metadata": {},
   "source": [
    "pow(a,n):"
   ]
  },
  {
   "cell_type": "code",
   "execution_count": 25,
   "id": "2cbb0abf-4086-42cf-81f3-af15211b7473",
   "metadata": {},
   "outputs": [
    {
     "name": "stdout",
     "output_type": "stream",
     "text": [
      "16\n",
      "0.1111111111111111\n",
      "729\n"
     ]
    }
   ],
   "source": [
    "print(pow(4,2))\n",
    "print(pow(3,-2))\n",
    "print(pow(9,3))"
   ]
  },
  {
   "cell_type": "markdown",
   "id": "7b6051c9-e2b1-48e9-8438-b085b9ceb9f6",
   "metadata": {},
   "source": [
    "max(a,b,c):"
   ]
  },
  {
   "cell_type": "code",
   "execution_count": 27,
   "id": "a23d684e-b6b4-44e0-abbb-f75808b195e3",
   "metadata": {},
   "outputs": [
    {
     "name": "stdout",
     "output_type": "stream",
     "text": [
      "9\n"
     ]
    }
   ],
   "source": [
    "print(max(3, 9, 2))"
   ]
  },
  {
   "cell_type": "markdown",
   "id": "d05f68b9-1a86-4e27-acec-610f5ba48168",
   "metadata": {},
   "source": [
    "min(a,b,c,d):"
   ]
  },
  {
   "cell_type": "code",
   "execution_count": 28,
   "id": "89eb3556-db63-437a-8503-4d77580a50d7",
   "metadata": {},
   "outputs": [
    {
     "name": "stdout",
     "output_type": "stream",
     "text": [
      "1\n"
     ]
    }
   ],
   "source": [
    "print(min(1,3,3,8))"
   ]
  },
  {
   "cell_type": "markdown",
   "id": "67fe1b2d-dc3c-4568-8ec8-56700d2530ac",
   "metadata": {},
   "source": [
    "round(a.b):"
   ]
  },
  {
   "cell_type": "code",
   "execution_count": 31,
   "id": "39df4466-3a56-4b7a-b717-f6234bc7f062",
   "metadata": {},
   "outputs": [
    {
     "name": "stdout",
     "output_type": "stream",
     "text": [
      "2\n"
     ]
    }
   ],
   "source": [
    "print(round(1.5))"
   ]
  },
  {
   "cell_type": "code",
   "execution_count": 32,
   "id": "3d6dacce-13f9-4614-9b17-1a3de1eb5d74",
   "metadata": {},
   "outputs": [
    {
     "name": "stdout",
     "output_type": "stream",
     "text": [
      "1\n"
     ]
    }
   ],
   "source": [
    "print(round(1.2))"
   ]
  },
  {
   "cell_type": "code",
   "execution_count": 33,
   "id": "efd3fb36-5062-4f93-8d0e-120143a413b7",
   "metadata": {},
   "outputs": [
    {
     "ename": "NameError",
     "evalue": "name 'floor' is not defined",
     "output_type": "error",
     "traceback": [
      "\u001b[0;31m---------------------------------------------------------------------------\u001b[0m",
      "\u001b[0;31mNameError\u001b[0m                                 Traceback (most recent call last)",
      "Cell \u001b[0;32mIn[33], line 1\u001b[0m\n\u001b[0;32m----> 1\u001b[0m \u001b[38;5;28mprint\u001b[39m(floor(\u001b[38;5;241m3.8\u001b[39m))\n",
      "\u001b[0;31mNameError\u001b[0m: name 'floor' is not defined"
     ]
    }
   ],
   "source": [
    "print(floor(3.8))"
   ]
  },
  {
   "cell_type": "code",
   "execution_count": 34,
   "id": "44d390b9-e107-45df-9625-ddeb0c19eaeb",
   "metadata": {},
   "outputs": [
    {
     "name": "stdout",
     "output_type": "stream",
     "text": [
      "4\n",
      "9\n",
      "8.0\n"
     ]
    }
   ],
   "source": [
    "from math import * #math module imported\n",
    "print(floor(4.7))\n",
    "print(ceil(8.1))\n",
    "print(sqrt(64))"
   ]
  },
  {
   "cell_type": "code",
   "execution_count": null,
   "id": "5ea916be-edfa-4dbc-8d62-f6fec1b1ca64",
   "metadata": {},
   "outputs": [],
   "source": []
  }
 ],
 "metadata": {
  "kernelspec": {
   "display_name": "Python 3 (ipykernel)",
   "language": "python",
   "name": "python3"
  },
  "language_info": {
   "codemirror_mode": {
    "name": "ipython",
    "version": 3
   },
   "file_extension": ".py",
   "mimetype": "text/x-python",
   "name": "python",
   "nbconvert_exporter": "python",
   "pygments_lexer": "ipython3",
   "version": "3.11.7"
  }
 },
 "nbformat": 4,
 "nbformat_minor": 5
}
