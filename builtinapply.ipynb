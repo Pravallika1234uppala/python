{
 "cells": [
  {
   "cell_type": "markdown",
   "id": "3fa0f123-c3c8-406e-8461-090be19db92e",
   "metadata": {},
   "source": [
    "## Applying Different types of In-built functions:"
   ]
  },
  {
   "cell_type": "code",
   "execution_count": 1,
   "id": "cf225e1a-ce66-413f-a45d-84837a239fd1",
   "metadata": {},
   "outputs": [],
   "source": [
    "my_name = \"Pravallika Uppala\""
   ]
  },
  {
   "cell_type": "code",
   "execution_count": 2,
   "id": "c047465f-f79f-4ae6-8623-a26e998ad9c0",
   "metadata": {},
   "outputs": [
    {
     "name": "stdout",
     "output_type": "stream",
     "text": [
      "False\n",
      "False\n",
      "False\n",
      "True\n",
      "False\n",
      "False\n",
      "False\n",
      "True\n",
      "True\n"
     ]
    }
   ],
   "source": [
    "print(my_name.isalnum()) #Check if all characters are alphanumeric\n",
    "print(my_name.isalpha()) #check if all characters in the string are alphabetic\n",
    "print(my_name.isdigit()) #test if string contains digits\n",
    "print(my_name.istitle()) #test if string contains title words\n",
    "print(my_name.isupper()) #test if string contains upper case\n",
    "print(my_name.islower()) #test if string contains lower case\n",
    "print(my_name.isspace()) #test if string contains spaces\n",
    "print(my_name.endswith('a')) #test if string ends with a\n",
    "print(my_name.startswith('P')) #test if string starts with P"
   ]
  },
  {
   "cell_type": "code",
   "execution_count": 3,
   "id": "3486e786-c4c6-4004-b5a7-9b19833ef2d5",
   "metadata": {},
   "outputs": [],
   "source": [
    "my_name = \"abcdefghi\"\n",
    "my = \"ABCDEF\"\n",
    "dig = \"6869789\"\n",
    "tit = \"Pravallika\"\n",
    "spa = \" \""
   ]
  },
  {
   "cell_type": "code",
   "execution_count": 4,
   "id": "4d697419-ad16-4a29-830b-81f6ad76754c",
   "metadata": {},
   "outputs": [
    {
     "name": "stdout",
     "output_type": "stream",
     "text": [
      "True\n",
      "True\n",
      "True\n",
      "True\n",
      "True\n",
      "True\n",
      "True\n",
      "True\n",
      "True\n"
     ]
    }
   ],
   "source": [
    "print(my_name.isalnum()) #True-has alphanumeric\n",
    "print(my_name.isalpha()) #True-all alphabets in order\n",
    "print(dig.isdigit()) #True-has all digits\n",
    "print(tit.istitle()) #True-has title words(one large word)\n",
    "print(my.isupper()) #True-all uppercase letters\n",
    "print(my_name.islower()) #True-all lower case letters\n",
    "print(spa.isspace()) #True-has spaces\n",
    "print(tit.endswith('a')) #True-ends with a\n",
    "print(tit.startswith('P')) #True-starts with P"
   ]
  },
  {
   "cell_type": "code",
   "execution_count": null,
   "id": "850fb9cb-232e-4c89-a114-db54b038976a",
   "metadata": {},
   "outputs": [],
   "source": []
  }
 ],
 "metadata": {
  "kernelspec": {
   "display_name": "Python 3 (ipykernel)",
   "language": "python",
   "name": "python3"
  },
  "language_info": {
   "codemirror_mode": {
    "name": "ipython",
    "version": 3
   },
   "file_extension": ".py",
   "mimetype": "text/x-python",
   "name": "python",
   "nbconvert_exporter": "python",
   "pygments_lexer": "ipython3",
   "version": "3.11.7"
  }
 },
 "nbformat": 4,
 "nbformat_minor": 5
}
