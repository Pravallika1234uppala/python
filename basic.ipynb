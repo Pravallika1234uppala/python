{
 "cells": [
  {
   "cell_type": "markdown",
   "id": "db5fc8f9-c47c-4953-9ab7-c923dbc526fc",
   "metadata": {},
   "source": [
    "#### Finding Simple values:"
   ]
  },
  {
   "cell_type": "code",
   "execution_count": 1,
   "id": "c5221807-b069-4791-984f-f9465adf6b80",
   "metadata": {},
   "outputs": [
    {
     "data": {
      "text/plain": [
       "2"
      ]
     },
     "execution_count": 1,
     "metadata": {},
     "output_type": "execute_result"
    }
   ],
   "source": [
    "1+1"
   ]
  },
  {
   "cell_type": "code",
   "execution_count": 3,
   "id": "220ba5a3-04fe-42b2-8860-fffbb3d072a1",
   "metadata": {},
   "outputs": [
    {
     "data": {
      "text/plain": [
       "20"
      ]
     },
     "execution_count": 3,
     "metadata": {},
     "output_type": "execute_result"
    }
   ],
   "source": [
    "4*5"
   ]
  },
  {
   "cell_type": "code",
   "execution_count": 4,
   "id": "60ec8c13-88fc-44e3-a70d-23b650aed225",
   "metadata": {},
   "outputs": [
    {
     "data": {
      "text/plain": [
       "20"
      ]
     },
     "execution_count": 4,
     "metadata": {},
     "output_type": "execute_result"
    }
   ],
   "source": [
    "2*10"
   ]
  },
  {
   "cell_type": "code",
   "execution_count": 5,
   "id": "b6ae3ec9-89b1-4ca3-ba82-b4672447c879",
   "metadata": {},
   "outputs": [
    {
     "data": {
      "text/plain": [
       "5.0"
      ]
     },
     "execution_count": 5,
     "metadata": {},
     "output_type": "execute_result"
    }
   ],
   "source": [
    "10/2"
   ]
  },
  {
   "cell_type": "code",
   "execution_count": 6,
   "id": "04679b53-d6b6-48aa-9374-1c051650551a",
   "metadata": {},
   "outputs": [
    {
     "data": {
      "text/plain": [
       "0"
      ]
     },
     "execution_count": 6,
     "metadata": {},
     "output_type": "execute_result"
    }
   ],
   "source": [
    "10%2"
   ]
  },
  {
   "cell_type": "code",
   "execution_count": 7,
   "id": "65965408-5ddc-4bd1-a8be-2455cbc937cb",
   "metadata": {},
   "outputs": [
    {
     "data": {
      "text/plain": [
       "100"
      ]
     },
     "execution_count": 7,
     "metadata": {},
     "output_type": "execute_result"
    }
   ],
   "source": [
    "10**2"
   ]
  },
  {
   "cell_type": "code",
   "execution_count": 8,
   "id": "55b8248c-e5f7-477f-aa7c-1eb1e872526b",
   "metadata": {},
   "outputs": [
    {
     "data": {
      "text/plain": [
       "3125"
      ]
     },
     "execution_count": 8,
     "metadata": {},
     "output_type": "execute_result"
    }
   ],
   "source": [
    "5**5"
   ]
  },
  {
   "cell_type": "code",
   "execution_count": 9,
   "id": "f979ca0f-a8e0-44a5-8549-5e705057de4b",
   "metadata": {},
   "outputs": [
    {
     "data": {
      "text/plain": [
       "'strstrstrstrstrstrstr'"
      ]
     },
     "execution_count": 9,
     "metadata": {},
     "output_type": "execute_result"
    }
   ],
   "source": [
    "7*'str'"
   ]
  },
  {
   "cell_type": "markdown",
   "id": "4fd476f3-12b0-4625-8ac6-9d571f1e74e1",
   "metadata": {},
   "source": [
    "#### Finding datatype:"
   ]
  },
  {
   "cell_type": "code",
   "execution_count": 12,
   "id": "5091acd4-b616-4d55-8d68-caf51fcadd38",
   "metadata": {},
   "outputs": [
    {
     "data": {
      "text/plain": [
       "int"
      ]
     },
     "execution_count": 12,
     "metadata": {},
     "output_type": "execute_result"
    }
   ],
   "source": [
    "type(9)"
   ]
  },
  {
   "cell_type": "code",
   "execution_count": 13,
   "id": "0068965a-540a-4ac5-9708-8275a5c5927c",
   "metadata": {},
   "outputs": [
    {
     "data": {
      "text/plain": [
       "float"
      ]
     },
     "execution_count": 13,
     "metadata": {},
     "output_type": "execute_result"
    }
   ],
   "source": [
    "type(8.97)"
   ]
  },
  {
   "cell_type": "code",
   "execution_count": 14,
   "id": "e0a7d6f3-2ebb-4ab3-a928-a522bf8fbdfe",
   "metadata": {},
   "outputs": [
    {
     "data": {
      "text/plain": [
       "str"
      ]
     },
     "execution_count": 14,
     "metadata": {},
     "output_type": "execute_result"
    }
   ],
   "source": [
    "type(\"Prava\")"
   ]
  },
  {
   "cell_type": "code",
   "execution_count": 17,
   "id": "776951da-8c99-41c4-8d88-78e49b0b3409",
   "metadata": {},
   "outputs": [
    {
     "data": {
      "text/plain": [
       "bool"
      ]
     },
     "execution_count": 17,
     "metadata": {},
     "output_type": "execute_result"
    }
   ],
   "source": [
    "type(False)"
   ]
  },
  {
   "cell_type": "markdown",
   "id": "b75a5c21-1274-4ea0-8a1e-bfec5a0fbbb3",
   "metadata": {},
   "source": [
    "### Strings:"
   ]
  },
  {
   "cell_type": "code",
   "execution_count": 22,
   "id": "016b3bf7-b004-4f3f-980b-ed8280651261",
   "metadata": {},
   "outputs": [
    {
     "name": "stdout",
     "output_type": "stream",
     "text": [
      "<class 'str'>\n",
      "<class 'str'>\n"
     ]
    }
   ],
   "source": [
    "a=\"hello\"\n",
    "b='Pravallika'\n",
    "print(type(a))\n",
    "print(type(b))"
   ]
  },
  {
   "cell_type": "markdown",
   "id": "bc2ff425-effa-48ec-a90d-9c80c666300f",
   "metadata": {},
   "source": [
    "### Variable Assignment:"
   ]
  },
  {
   "cell_type": "code",
   "execution_count": 24,
   "id": "18e89538-10ce-4435-b69f-a42c5e0f7cb9",
   "metadata": {},
   "outputs": [
    {
     "name": "stdout",
     "output_type": "stream",
     "text": [
      "<class 'int'>\n",
      "<class 'str'>\n"
     ]
    }
   ],
   "source": [
    "variable_name = \"value\"\n",
    "a = 10\n",
    "print(type(a))\n",
    "a = 'Prava'\n",
    "print(type(a))"
   ]
  },
  {
   "cell_type": "markdown",
   "id": "d3ac720f-9de6-4971-8e39-8691f4468923",
   "metadata": {},
   "source": [
    "### Mathematical Operation with variable Assignment:"
   ]
  },
  {
   "cell_type": "code",
   "execution_count": 25,
   "id": "3748702e-7325-4427-a8c7-073ea67eb8d9",
   "metadata": {},
   "outputs": [
    {
     "name": "stdout",
     "output_type": "stream",
     "text": [
      "200\n",
      "0.5\n",
      "10\n",
      "200.5\n"
     ]
    }
   ],
   "source": [
    "a = 10\n",
    "b = 20\n",
    "print(a*b)\n",
    "print(a/b)\n",
    "print(a%b)\n",
    "print((a*b)+(a/b))"
   ]
  },
  {
   "cell_type": "markdown",
   "id": "66d10941-f837-40e3-a2c0-6d92deb6b5e0",
   "metadata": {},
   "source": [
    "### Ways of Printing:"
   ]
  },
  {
   "cell_type": "code",
   "execution_count": 27,
   "id": "3008f31a-ec9d-4405-8636-880bf7020f3b",
   "metadata": {},
   "outputs": [
    {
     "name": "stdout",
     "output_type": "stream",
     "text": [
      "Hi\n",
      "My first name is Pravallika and last name is Uppala. So, full name is Pravallika Uppala.\n"
     ]
    }
   ],
   "source": [
    "print(\"Hi\")\n",
    "first_name = 'Pravallika'\n",
    "last_name = 'Uppala'\n",
    "\n",
    "#Order matters:\n",
    "print(\"My first name is {} and last name is {}. So, full name is {} {}.\".format(first_name, last_name, first_name, last_name))\n"
   ]
  },
  {
   "cell_type": "code",
   "execution_count": 30,
   "id": "dce45cd2-56ea-4729-b599-9178f9fcc72c",
   "metadata": {},
   "outputs": [
    {
     "name": "stdout",
     "output_type": "stream",
     "text": [
      "My first name is Pravallika and last name is Uppala. So, full name is Pravallika Uppala.\n"
     ]
    }
   ],
   "source": [
    "#Order doesn't matter:\n",
    "print(\"My first name is {first} and last name is {last}. So, full name is {full}.\".format(full=first_name+' '+last_name, last=last_name, first=first_name))\n",
    "\n"
   ]
  },
  {
   "cell_type": "code",
   "execution_count": 34,
   "id": "8ab3bb8d-452e-4dea-9ffe-6d0544091e6d",
   "metadata": {},
   "outputs": [
    {
     "name": "stdout",
     "output_type": "stream",
     "text": [
      "5\n",
      "<class 'float'>\n",
      "<class 'str'>\n"
     ]
    }
   ],
   "source": [
    "print(len('Prava'))\n",
    "print(type(1.0))\n",
    "print(type('Prava'))"
   ]
  },
  {
   "cell_type": "code",
   "execution_count": null,
   "id": "461887a7-2e44-4170-8528-efb35b354f13",
   "metadata": {},
   "outputs": [],
   "source": []
  }
 ],
 "metadata": {
  "kernelspec": {
   "display_name": "Python 3 (ipykernel)",
   "language": "python",
   "name": "python3"
  },
  "language_info": {
   "codemirror_mode": {
    "name": "ipython",
    "version": 3
   },
   "file_extension": ".py",
   "mimetype": "text/x-python",
   "name": "python",
   "nbconvert_exporter": "python",
   "pygments_lexer": "ipython3",
   "version": "3.11.7"
  }
 },
 "nbformat": 4,
 "nbformat_minor": 5
}
