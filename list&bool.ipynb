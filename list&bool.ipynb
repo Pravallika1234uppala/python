{
 "cells": [
  {
   "cell_type": "markdown",
   "id": "310a9730-3c4d-48b3-bafe-b8a404b2ec2f",
   "metadata": {},
   "source": [
    "## Python LISTS and BOOLEAN Variables"
   ]
  },
  {
   "cell_type": "markdown",
   "id": "7d788dfa-ffce-49a6-b514-5552ae084f75",
   "metadata": {},
   "source": [
    "### Python Datastructures and Boolean"
   ]
  },
  {
   "cell_type": "markdown",
   "id": "d693f96b-6d8d-4099-a704-df86de7a5e6a",
   "metadata": {},
   "source": [
    "Boolean\n",
    "\n",
    "Boolean and logical Operators\n",
    "\n",
    "Lists\n",
    "\n",
    "Comparison operators\n",
    "\n",
    "Dictionaries\n",
    "\n",
    "Tuples\n",
    "\n",
    "Sets"
   ]
  },
  {
   "cell_type": "markdown",
   "id": "bf8fea7d-8c3e-4b67-8309-57ba45217f0f",
   "metadata": {},
   "source": [
    "### Boolean Variables:"
   ]
  },
  {
   "cell_type": "code",
   "execution_count": 1,
   "id": "8f618cc6-08b3-4b53-9802-db0c17b83907",
   "metadata": {},
   "outputs": [
    {
     "data": {
      "text/plain": [
       "False"
      ]
     },
     "execution_count": 1,
     "metadata": {},
     "output_type": "execute_result"
    }
   ],
   "source": [
    "bool()"
   ]
  },
  {
   "cell_type": "code",
   "execution_count": 2,
   "id": "1ffdd010-2ac7-4949-92c9-322017d3860c",
   "metadata": {},
   "outputs": [
    {
     "data": {
      "text/plain": [
       "True"
      ]
     },
     "execution_count": 2,
     "metadata": {},
     "output_type": "execute_result"
    }
   ],
   "source": [
    "True"
   ]
  },
  {
   "cell_type": "code",
   "execution_count": 3,
   "id": "974e5431-f503-42b1-b1b2-f62ceb0ef8a3",
   "metadata": {},
   "outputs": [
    {
     "data": {
      "text/plain": [
       "False"
      ]
     },
     "execution_count": 3,
     "metadata": {},
     "output_type": "execute_result"
    }
   ],
   "source": [
    "False"
   ]
  },
  {
   "cell_type": "code",
   "execution_count": 4,
   "id": "73d57480-bc46-4407-9f38-4ca9f6a184fd",
   "metadata": {},
   "outputs": [
    {
     "name": "stdout",
     "output_type": "stream",
     "text": [
      "True False\n"
     ]
    }
   ],
   "source": [
    "print(True, False)"
   ]
  },
  {
   "cell_type": "code",
   "execution_count": 5,
   "id": "5facdd93-333d-42bf-951a-d43cdc708a0a",
   "metadata": {},
   "outputs": [
    {
     "data": {
      "text/plain": [
       "bool"
      ]
     },
     "execution_count": 5,
     "metadata": {},
     "output_type": "execute_result"
    }
   ],
   "source": [
    "type(True)"
   ]
  },
  {
   "cell_type": "code",
   "execution_count": 6,
   "id": "c284345d-8b0a-4ac5-a53e-ab05bf715b5f",
   "metadata": {},
   "outputs": [
    {
     "data": {
      "text/plain": [
       "bool"
      ]
     },
     "execution_count": 6,
     "metadata": {},
     "output_type": "execute_result"
    }
   ],
   "source": [
    "type(False)"
   ]
  },
  {
   "cell_type": "markdown",
   "id": "d2bf8caf-9b59-4fab-815a-a77be7eb960d",
   "metadata": {},
   "source": [
    "### Boolean and logical Operators:"
   ]
  },
  {
   "cell_type": "markdown",
   "id": "f66e3b7e-f15c-4120-95dc-adde266eb988",
   "metadata": {},
   "source": [
    "##### and operator:"
   ]
  },
  {
   "cell_type": "code",
   "execution_count": 7,
   "id": "8c44f7e0-034b-49ba-813d-4ff9fede2892",
   "metadata": {},
   "outputs": [
    {
     "data": {
      "text/plain": [
       "True"
      ]
     },
     "execution_count": 7,
     "metadata": {},
     "output_type": "execute_result"
    }
   ],
   "source": [
    "True and True"
   ]
  },
  {
   "cell_type": "code",
   "execution_count": 8,
   "id": "4b915351-948b-4059-9cf2-8c4456dc907b",
   "metadata": {},
   "outputs": [
    {
     "data": {
      "text/plain": [
       "False"
      ]
     },
     "execution_count": 8,
     "metadata": {},
     "output_type": "execute_result"
    }
   ],
   "source": [
    "True and False"
   ]
  },
  {
   "cell_type": "code",
   "execution_count": 9,
   "id": "704f645d-ad74-4067-a27e-c2020295c757",
   "metadata": {},
   "outputs": [
    {
     "data": {
      "text/plain": [
       "False"
      ]
     },
     "execution_count": 9,
     "metadata": {},
     "output_type": "execute_result"
    }
   ],
   "source": [
    "False and True"
   ]
  },
  {
   "cell_type": "code",
   "execution_count": 10,
   "id": "2907ddd4-37b8-4362-8ca3-a09d34aae0a4",
   "metadata": {},
   "outputs": [
    {
     "data": {
      "text/plain": [
       "False"
      ]
     },
     "execution_count": 10,
     "metadata": {},
     "output_type": "execute_result"
    }
   ],
   "source": [
    "False and False"
   ]
  },
  {
   "cell_type": "markdown",
   "id": "7b8aaed7-0589-4105-87a1-a361cd9d7a8e",
   "metadata": {},
   "source": [
    "##### or operator:"
   ]
  },
  {
   "cell_type": "code",
   "execution_count": 11,
   "id": "ce1e6057-14ed-4c33-b287-be3094aa6f51",
   "metadata": {},
   "outputs": [
    {
     "data": {
      "text/plain": [
       "True"
      ]
     },
     "execution_count": 11,
     "metadata": {},
     "output_type": "execute_result"
    }
   ],
   "source": [
    "True or True"
   ]
  },
  {
   "cell_type": "code",
   "execution_count": 12,
   "id": "d113952d-10f0-425b-9493-f497a770898f",
   "metadata": {},
   "outputs": [
    {
     "data": {
      "text/plain": [
       "True"
      ]
     },
     "execution_count": 12,
     "metadata": {},
     "output_type": "execute_result"
    }
   ],
   "source": [
    "True or False"
   ]
  },
  {
   "cell_type": "code",
   "execution_count": 13,
   "id": "0c1eb3c4-3af8-4fd5-9e31-2ed7e095ed4d",
   "metadata": {},
   "outputs": [
    {
     "data": {
      "text/plain": [
       "True"
      ]
     },
     "execution_count": 13,
     "metadata": {},
     "output_type": "execute_result"
    }
   ],
   "source": [
    "False or True"
   ]
  },
  {
   "cell_type": "code",
   "execution_count": 14,
   "id": "1cbcd862-e93a-4a81-a50c-dd67918690d4",
   "metadata": {},
   "outputs": [
    {
     "data": {
      "text/plain": [
       "False"
      ]
     },
     "execution_count": 14,
     "metadata": {},
     "output_type": "execute_result"
    }
   ],
   "source": [
    "False or False"
   ]
  },
  {
   "cell_type": "markdown",
   "id": "cf1fba76-a05e-4851-a13d-2a32d9f0ae42",
   "metadata": {},
   "source": [
    "#### Complex logical operation:"
   ]
  },
  {
   "cell_type": "code",
   "execution_count": 15,
   "id": "3b929bc5-e35c-4d36-bb6f-3b2c5b95e1f3",
   "metadata": {},
   "outputs": [
    {
     "data": {
      "text/plain": [
       "True"
      ]
     },
     "execution_count": 15,
     "metadata": {},
     "output_type": "execute_result"
    }
   ],
   "source": [
    "str_one = 'Hi, Good Morning'\n",
    "str_two = 'Prava'\n",
    "\n",
    "str_two.isalpha() or str_one.isnum()"
   ]
  },
  {
   "cell_type": "markdown",
   "id": "ccc0f030-c1de-4b3f-be04-9e49fb4d0c5a",
   "metadata": {},
   "source": [
    "## LISTS:"
   ]
  },
  {
   "cell_type": "markdown",
   "id": "6171dae7-25ff-4e0d-82d0-3a234447531d",
   "metadata": {},
   "source": [
    "#### Creating list manually:"
   ]
  },
  {
   "cell_type": "code",
   "execution_count": 16,
   "id": "ba304924-1dd9-452f-997f-e206582c926a",
   "metadata": {},
   "outputs": [
    {
     "data": {
      "text/plain": [
       "list"
      ]
     },
     "execution_count": 16,
     "metadata": {},
     "output_type": "execute_result"
    }
   ],
   "source": [
    "first_one = []\n",
    "type(first_one)"
   ]
  },
  {
   "cell_type": "code",
   "execution_count": 17,
   "id": "76ac2f50-325f-46c8-9181-6d6f79b36262",
   "metadata": {},
   "outputs": [
    {
     "data": {
      "text/plain": [
       "list"
      ]
     },
     "execution_count": 17,
     "metadata": {},
     "output_type": "execute_result"
    }
   ],
   "source": [
    "type([])"
   ]
  },
  {
   "cell_type": "markdown",
   "id": "bfffe328-ca7f-4fac-aaca-ad1464a5753e",
   "metadata": {},
   "source": [
    "#### Creating list using Inbuilt function:"
   ]
  },
  {
   "cell_type": "code",
   "execution_count": 18,
   "id": "25a71e42-f946-45a5-9a71-81e5278a1716",
   "metadata": {},
   "outputs": [
    {
     "data": {
      "text/plain": [
       "list"
      ]
     },
     "execution_count": 18,
     "metadata": {},
     "output_type": "execute_result"
    }
   ],
   "source": [
    "first_one = list()\n",
    "type(first_one)\n"
   ]
  },
  {
   "cell_type": "markdown",
   "id": "a86e97a1-3714-4f24-8461-99812121ce75",
   "metadata": {},
   "source": [
    "#### Creating list and manually add it:"
   ]
  },
  {
   "cell_type": "code",
   "execution_count": 20,
   "id": "2dd2aecd-41af-44fe-a89c-09a6b868ad9a",
   "metadata": {},
   "outputs": [
    {
     "name": "stdout",
     "output_type": "stream",
     "text": [
      "<class 'list'>\n",
      "7\n",
      "['Maths', 'Physics', 'Chemistry', 500, 300, 200, 800]\n"
     ]
    }
   ],
   "source": [
    "second_one = ['Maths', 'Physics', 'Chemistry', 500, 300, 200, 800]\n",
    "print(type(second_one))\n",
    "print(len(second_one))\n",
    "print(second_one)"
   ]
  },
  {
   "cell_type": "code",
   "execution_count": null,
   "id": "101df85b-3393-4902-8f3a-662806258311",
   "metadata": {},
   "outputs": [],
   "source": []
  }
 ],
 "metadata": {
  "kernelspec": {
   "display_name": "Python 3 (ipykernel)",
   "language": "python",
   "name": "python3"
  },
  "language_info": {
   "codemirror_mode": {
    "name": "ipython",
    "version": 3
   },
   "file_extension": ".py",
   "mimetype": "text/x-python",
   "name": "python",
   "nbconvert_exporter": "python",
   "pygments_lexer": "ipython3",
   "version": "3.11.7"
  }
 },
 "nbformat": 4,
 "nbformat_minor": 5
}
